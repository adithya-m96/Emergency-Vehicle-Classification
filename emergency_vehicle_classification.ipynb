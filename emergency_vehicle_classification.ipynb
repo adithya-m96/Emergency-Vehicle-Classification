{
  "nbformat": 4,
  "nbformat_minor": 0,
  "metadata": {
    "colab": {
      "name": "emergency vehicle classification",
      "provenance": [],
      "collapsed_sections": [],
      "authorship_tag": "ABX9TyPvb/e+7TXY/mS191eXasba",
      "include_colab_link": true
    },
    "kernelspec": {
      "name": "python3",
      "display_name": "Python 3"
    }
  },
  "cells": [
    {
      "cell_type": "markdown",
      "metadata": {
        "id": "view-in-github",
        "colab_type": "text"
      },
      "source": [
        "<a href=\"https://colab.research.google.com/github/adithya-m96/Emergency-Vehicle-Classification/blob/master/emergency_vehicle_classification.ipynb\" target=\"_parent\"><img src=\"https://colab.research.google.com/assets/colab-badge.svg\" alt=\"Open In Colab\"/></a>"
      ]
    },
    {
      "cell_type": "code",
      "metadata": {
        "id": "jMQ2bMkUzAIU",
        "colab_type": "code",
        "colab": {
          "base_uri": "https://localhost:8080/",
          "height": 122
        },
        "outputId": "c2f20111-0d7d-4e02-f4f8-501e7500b5d5"
      },
      "source": [
        "from google.colab import drive\n",
        "drive.mount('/content/drive')"
      ],
      "execution_count": null,
      "outputs": [
        {
          "output_type": "stream",
          "text": [
            "Go to this URL in a browser: https://accounts.google.com/o/oauth2/auth?client_id=947318989803-6bn6qk8qdgf4n4g3pfee6491hc0brc4i.apps.googleusercontent.com&redirect_uri=urn%3aietf%3awg%3aoauth%3a2.0%3aoob&response_type=code&scope=email%20https%3a%2f%2fwww.googleapis.com%2fauth%2fdocs.test%20https%3a%2f%2fwww.googleapis.com%2fauth%2fdrive%20https%3a%2f%2fwww.googleapis.com%2fauth%2fdrive.photos.readonly%20https%3a%2f%2fwww.googleapis.com%2fauth%2fpeopleapi.readonly\n",
            "\n",
            "Enter your authorization code:\n",
            "··········\n",
            "Mounted at /content/drive\n"
          ],
          "name": "stdout"
        }
      ]
    },
    {
      "cell_type": "code",
      "metadata": {
        "id": "zsthe1uPzVjc",
        "colab_type": "code",
        "colab": {}
      },
      "source": [
        "# Code to read csv file into Colaboratory:\n",
        "!pip install -U -q PyDrive\n",
        "from pydrive.auth import GoogleAuth\n",
        "from pydrive.drive import GoogleDrive\n",
        "from google.colab import auth\n",
        "from oauth2client.client import GoogleCredentials\n",
        "# Authenticate and create the PyDrive client.\n",
        "auth.authenticate_user()\n",
        "gauth = GoogleAuth()\n",
        "gauth.credentials = GoogleCredentials.get_application_default()\n",
        "drive = GoogleDrive(gauth)"
      ],
      "execution_count": null,
      "outputs": []
    },
    {
      "cell_type": "code",
      "metadata": {
        "id": "m28KBNsP0i8J",
        "colab_type": "code",
        "colab": {}
      },
      "source": [
        "link = '1Oyp4hwE0Jr_T3MxkscSrU4rSUfrPD3ET'"
      ],
      "execution_count": null,
      "outputs": []
    },
    {
      "cell_type": "code",
      "metadata": {
        "id": "V1ieNEhw1D5R",
        "colab_type": "code",
        "colab": {}
      },
      "source": [
        "import tensorflow as tf\n",
        "import numpy as np\n",
        "import pandas as pd\n",
        "import matplotlib.image as mpimg"
      ],
      "execution_count": null,
      "outputs": []
    },
    {
      "cell_type": "code",
      "metadata": {
        "id": "xisRXD911Gtd",
        "colab_type": "code",
        "colab": {}
      },
      "source": [
        "# from google.colab import drive\n",
        "download = drive.CreateFile({'id': link})\n",
        "download.GetContentFile('Train.zip')\n",
        "!unzip Train.zip"
      ],
      "execution_count": null,
      "outputs": []
    },
    {
      "cell_type": "code",
      "metadata": {
        "id": "4aD5wRim1IoF",
        "colab_type": "code",
        "colab": {
          "base_uri": "https://localhost:8080/",
          "height": 34
        },
        "outputId": "503ee9d5-1991-46ef-a3ac-c882bf0b1980"
      },
      "source": [
        "import keras\n",
        "from keras.models import Sequential\n",
        "from keras.layers import Dense, Dropout, Flatten\n",
        "from keras.layers import Conv2D, MaxPooling2D\n",
        "from keras.utils import to_categorical\n",
        "from keras.preprocessing import image\n",
        "import numpy as np\n",
        "import pandas as pd\n",
        "import matplotlib.pyplot as plt\n",
        "from sklearn.model_selection import train_test_split\n",
        "from keras.utils import to_categorical\n",
        "from tqdm import tqdm"
      ],
      "execution_count": null,
      "outputs": [
        {
          "output_type": "stream",
          "text": [
            "Using TensorFlow backend.\n"
          ],
          "name": "stderr"
        }
      ]
    },
    {
      "cell_type": "code",
      "metadata": {
        "id": "NczJdslF17zN",
        "colab_type": "code",
        "colab": {
          "base_uri": "https://localhost:8080/",
          "height": 204
        },
        "outputId": "b4a152dc-df6b-45ae-9ddf-62f1a1b3beeb"
      },
      "source": [
        "train = pd.read_csv('train.csv')\n",
        "train.head()"
      ],
      "execution_count": null,
      "outputs": [
        {
          "output_type": "execute_result",
          "data": {
            "text/html": [
              "<div>\n",
              "<style scoped>\n",
              "    .dataframe tbody tr th:only-of-type {\n",
              "        vertical-align: middle;\n",
              "    }\n",
              "\n",
              "    .dataframe tbody tr th {\n",
              "        vertical-align: top;\n",
              "    }\n",
              "\n",
              "    .dataframe thead th {\n",
              "        text-align: right;\n",
              "    }\n",
              "</style>\n",
              "<table border=\"1\" class=\"dataframe\">\n",
              "  <thead>\n",
              "    <tr style=\"text-align: right;\">\n",
              "      <th></th>\n",
              "      <th>image_names</th>\n",
              "      <th>emergency_or_not</th>\n",
              "    </tr>\n",
              "  </thead>\n",
              "  <tbody>\n",
              "    <tr>\n",
              "      <th>0</th>\n",
              "      <td>1503.jpg</td>\n",
              "      <td>0</td>\n",
              "    </tr>\n",
              "    <tr>\n",
              "      <th>1</th>\n",
              "      <td>1420.jpg</td>\n",
              "      <td>0</td>\n",
              "    </tr>\n",
              "    <tr>\n",
              "      <th>2</th>\n",
              "      <td>1764.jpg</td>\n",
              "      <td>0</td>\n",
              "    </tr>\n",
              "    <tr>\n",
              "      <th>3</th>\n",
              "      <td>1356.jpg</td>\n",
              "      <td>0</td>\n",
              "    </tr>\n",
              "    <tr>\n",
              "      <th>4</th>\n",
              "      <td>1117.jpg</td>\n",
              "      <td>0</td>\n",
              "    </tr>\n",
              "  </tbody>\n",
              "</table>\n",
              "</div>"
            ],
            "text/plain": [
              "  image_names  emergency_or_not\n",
              "0    1503.jpg                 0\n",
              "1    1420.jpg                 0\n",
              "2    1764.jpg                 0\n",
              "3    1356.jpg                 0\n",
              "4    1117.jpg                 0"
            ]
          },
          "metadata": {
            "tags": []
          },
          "execution_count": 6
        }
      ]
    },
    {
      "cell_type": "code",
      "metadata": {
        "id": "faDe5fCz2DmC",
        "colab_type": "code",
        "colab": {
          "base_uri": "https://localhost:8080/",
          "height": 88
        },
        "outputId": "f1f08031-7f7f-47f2-f40f-0ac41c4bfea6"
      },
      "source": [
        "# We have grayscale images, so while loading the images we will keep grayscale=True, if you have RGB images, you should set grayscale as False\n",
        "train_image = []\n",
        "for i in tqdm(range(train.shape[0])):\n",
        "    img = image.load_img('images/'+train['image_names'][i], target_size=(28,28,1), grayscale=True)\n",
        "    img = image.img_to_array(img)\n",
        "    img = img/255\n",
        "    train_image.append(img)\n",
        "X = np.array(train_image)"
      ],
      "execution_count": null,
      "outputs": [
        {
          "output_type": "stream",
          "text": [
            "  0%|          | 0/1646 [00:00<?, ?it/s]/usr/local/lib/python3.6/dist-packages/keras_preprocessing/image/utils.py:107: UserWarning: grayscale is deprecated. Please use color_mode = \"grayscale\"\n",
            "  warnings.warn('grayscale is deprecated. Please use '\n",
            "100%|██████████| 1646/1646 [00:02<00:00, 789.47it/s]\n"
          ],
          "name": "stderr"
        }
      ]
    },
    {
      "cell_type": "code",
      "metadata": {
        "id": "UIGvEW572HMK",
        "colab_type": "code",
        "colab": {}
      },
      "source": [
        "# Converting target to Lables\n",
        "y=train['emergency_or_not'].values\n",
        "y = to_categorical(y)"
      ],
      "execution_count": null,
      "outputs": []
    },
    {
      "cell_type": "code",
      "metadata": {
        "id": "24uvFf6A2v20",
        "colab_type": "code",
        "colab": {}
      },
      "source": [
        "X_train, X_test, y_train, y_test = train_test_split(X, y, random_state=42, test_size=0.2)"
      ],
      "execution_count": null,
      "outputs": []
    },
    {
      "cell_type": "code",
      "metadata": {
        "id": "yYgnvwsNBBQC",
        "colab_type": "code",
        "colab": {}
      },
      "source": [
        "from keras.constraints import max_norm\n",
        "# instantiate norm\n",
        "norm = max_norm(3.0)"
      ],
      "execution_count": null,
      "outputs": []
    },
    {
      "cell_type": "code",
      "metadata": {
        "id": "M7bXOJFC3Ad4",
        "colab_type": "code",
        "colab": {}
      },
      "source": [
        "# Define the model structure\n",
        "model = Sequential()\n",
        "model.add(Conv2D(64, (3,3),kernel_constraint=max_norm(3), bias_constraint=max_norm(3), activation='relu'))\n",
        "model.add(Dropout(0.25))\n",
        "model.add(Flatten())\n",
        "model.add(Dense(128, activation='relu'))\n",
        "model.add(Dropout(0.4))\n",
        "model.add(Dense(64, activation='relu'))\n",
        "# model.add(Dropout(0.5))\n",
        "model.add(Dense(32, activation='relu'))\n",
        "# model.add(Dropout(0.5))\n",
        "model.add(Dense(2, activation='sigmoid'))"
      ],
      "execution_count": null,
      "outputs": []
    },
    {
      "cell_type": "code",
      "metadata": {
        "id": "FeBySE9l3Cso",
        "colab_type": "code",
        "colab": {}
      },
      "source": [
        "# Compile the model\n",
        "model.compile(loss='categorical_crossentropy',optimizer='Adam',metrics=['accuracy'])"
      ],
      "execution_count": null,
      "outputs": []
    },
    {
      "cell_type": "code",
      "metadata": {
        "id": "7fU-pCTc3EwU",
        "colab_type": "code",
        "colab": {
          "base_uri": "https://localhost:8080/",
          "height": 1000
        },
        "outputId": "fd9892fa-795a-4d2b-82f4-025e4ec5022f"
      },
      "source": [
        "# Training the model\n",
        "model.fit(X_train, y_train, epochs=75, validation_data=(X_test, y_test))"
      ],
      "execution_count": null,
      "outputs": [
        {
          "output_type": "stream",
          "text": [
            "Train on 1316 samples, validate on 330 samples\n",
            "Epoch 1/75\n",
            "1316/1316 [==============================] - 5s 4ms/step - loss: 0.6819 - accuracy: 0.5608 - val_loss: 0.6586 - val_accuracy: 0.6061\n",
            "Epoch 2/75\n",
            "1316/1316 [==============================] - 4s 3ms/step - loss: 0.6323 - accuracy: 0.6360 - val_loss: 0.6311 - val_accuracy: 0.6212\n",
            "Epoch 3/75\n",
            "1316/1316 [==============================] - 4s 3ms/step - loss: 0.5542 - accuracy: 0.7280 - val_loss: 0.5335 - val_accuracy: 0.7576\n",
            "Epoch 4/75\n",
            "1316/1316 [==============================] - 4s 3ms/step - loss: 0.4373 - accuracy: 0.8138 - val_loss: 0.5890 - val_accuracy: 0.6879\n",
            "Epoch 5/75\n",
            "1316/1316 [==============================] - 4s 3ms/step - loss: 0.3361 - accuracy: 0.8640 - val_loss: 0.5576 - val_accuracy: 0.7303\n",
            "Epoch 6/75\n",
            "1316/1316 [==============================] - 4s 3ms/step - loss: 0.2517 - accuracy: 0.9081 - val_loss: 0.6770 - val_accuracy: 0.7485\n",
            "Epoch 7/75\n",
            "1316/1316 [==============================] - 4s 3ms/step - loss: 0.1766 - accuracy: 0.9309 - val_loss: 0.6399 - val_accuracy: 0.7303\n",
            "Epoch 8/75\n",
            "1316/1316 [==============================] - 4s 3ms/step - loss: 0.1313 - accuracy: 0.9582 - val_loss: 0.7961 - val_accuracy: 0.7273\n",
            "Epoch 9/75\n",
            "1316/1316 [==============================] - 4s 3ms/step - loss: 0.0906 - accuracy: 0.9673 - val_loss: 0.7983 - val_accuracy: 0.7515\n",
            "Epoch 10/75\n",
            "1316/1316 [==============================] - 4s 3ms/step - loss: 0.0588 - accuracy: 0.9795 - val_loss: 0.9297 - val_accuracy: 0.7394\n",
            "Epoch 11/75\n",
            "1316/1316 [==============================] - 4s 3ms/step - loss: 0.0621 - accuracy: 0.9795 - val_loss: 0.9424 - val_accuracy: 0.7455\n",
            "Epoch 12/75\n",
            "1316/1316 [==============================] - 4s 3ms/step - loss: 0.0504 - accuracy: 0.9840 - val_loss: 1.2748 - val_accuracy: 0.7455\n",
            "Epoch 13/75\n",
            "1316/1316 [==============================] - 4s 3ms/step - loss: 0.0551 - accuracy: 0.9795 - val_loss: 1.1058 - val_accuracy: 0.7394\n",
            "Epoch 14/75\n",
            "1316/1316 [==============================] - 4s 3ms/step - loss: 0.0356 - accuracy: 0.9909 - val_loss: 1.3230 - val_accuracy: 0.7303\n",
            "Epoch 15/75\n",
            "1316/1316 [==============================] - 4s 3ms/step - loss: 0.0300 - accuracy: 0.9916 - val_loss: 1.1821 - val_accuracy: 0.7424\n",
            "Epoch 16/75\n",
            "1316/1316 [==============================] - 4s 3ms/step - loss: 0.0315 - accuracy: 0.9894 - val_loss: 1.5099 - val_accuracy: 0.7394\n",
            "Epoch 17/75\n",
            "1316/1316 [==============================] - 4s 3ms/step - loss: 0.0254 - accuracy: 0.9901 - val_loss: 1.4007 - val_accuracy: 0.7424\n",
            "Epoch 18/75\n",
            "1316/1316 [==============================] - 4s 3ms/step - loss: 0.0221 - accuracy: 0.9924 - val_loss: 1.4650 - val_accuracy: 0.7424\n",
            "Epoch 19/75\n",
            "1316/1316 [==============================] - 4s 3ms/step - loss: 0.0502 - accuracy: 0.9818 - val_loss: 1.1985 - val_accuracy: 0.7485\n",
            "Epoch 20/75\n",
            "1316/1316 [==============================] - 4s 3ms/step - loss: 0.0270 - accuracy: 0.9924 - val_loss: 1.2887 - val_accuracy: 0.7515\n",
            "Epoch 21/75\n",
            "1316/1316 [==============================] - 4s 3ms/step - loss: 0.0251 - accuracy: 0.9901 - val_loss: 1.4165 - val_accuracy: 0.7515\n",
            "Epoch 22/75\n",
            "1316/1316 [==============================] - 4s 3ms/step - loss: 0.0165 - accuracy: 0.9947 - val_loss: 2.2497 - val_accuracy: 0.6970\n",
            "Epoch 23/75\n",
            "1316/1316 [==============================] - 4s 3ms/step - loss: 0.0303 - accuracy: 0.9878 - val_loss: 1.4768 - val_accuracy: 0.7303\n",
            "Epoch 24/75\n",
            "1316/1316 [==============================] - 4s 3ms/step - loss: 0.0166 - accuracy: 0.9909 - val_loss: 1.5662 - val_accuracy: 0.7455\n",
            "Epoch 25/75\n",
            "1316/1316 [==============================] - 4s 3ms/step - loss: 0.0639 - accuracy: 0.9772 - val_loss: 1.1754 - val_accuracy: 0.7485\n",
            "Epoch 26/75\n",
            "1316/1316 [==============================] - 4s 3ms/step - loss: 0.0227 - accuracy: 0.9916 - val_loss: 1.4098 - val_accuracy: 0.7394\n",
            "Epoch 27/75\n",
            "1316/1316 [==============================] - 4s 3ms/step - loss: 0.0454 - accuracy: 0.9810 - val_loss: 1.2672 - val_accuracy: 0.7394\n",
            "Epoch 28/75\n",
            "1316/1316 [==============================] - 4s 3ms/step - loss: 0.0361 - accuracy: 0.9825 - val_loss: 1.4264 - val_accuracy: 0.7212\n",
            "Epoch 29/75\n",
            "1316/1316 [==============================] - 4s 3ms/step - loss: 0.0149 - accuracy: 0.9924 - val_loss: 1.4931 - val_accuracy: 0.7212\n",
            "Epoch 30/75\n",
            "1316/1316 [==============================] - 4s 3ms/step - loss: 0.0086 - accuracy: 0.9977 - val_loss: 1.6760 - val_accuracy: 0.7424\n",
            "Epoch 31/75\n",
            "1316/1316 [==============================] - 4s 3ms/step - loss: 0.0088 - accuracy: 0.9985 - val_loss: 1.6447 - val_accuracy: 0.7455\n",
            "Epoch 32/75\n",
            "1316/1316 [==============================] - 4s 3ms/step - loss: 0.0089 - accuracy: 0.9954 - val_loss: 1.6495 - val_accuracy: 0.7667\n",
            "Epoch 33/75\n",
            "1316/1316 [==============================] - 4s 3ms/step - loss: 0.0128 - accuracy: 0.9947 - val_loss: 1.7917 - val_accuracy: 0.7394\n",
            "Epoch 34/75\n",
            "1316/1316 [==============================] - 4s 3ms/step - loss: 0.0205 - accuracy: 0.9932 - val_loss: 1.8099 - val_accuracy: 0.7455\n",
            "Epoch 35/75\n",
            "1316/1316 [==============================] - 4s 3ms/step - loss: 0.0161 - accuracy: 0.9939 - val_loss: 1.6532 - val_accuracy: 0.7455\n",
            "Epoch 36/75\n",
            "1316/1316 [==============================] - 4s 3ms/step - loss: 0.0084 - accuracy: 0.9970 - val_loss: 1.7597 - val_accuracy: 0.7394\n",
            "Epoch 37/75\n",
            "1316/1316 [==============================] - 4s 3ms/step - loss: 0.0083 - accuracy: 0.9970 - val_loss: 1.9603 - val_accuracy: 0.7333\n",
            "Epoch 38/75\n",
            "1316/1316 [==============================] - 4s 3ms/step - loss: 0.0114 - accuracy: 0.9970 - val_loss: 1.8939 - val_accuracy: 0.7333\n",
            "Epoch 39/75\n",
            "1316/1316 [==============================] - 4s 3ms/step - loss: 0.0087 - accuracy: 0.9962 - val_loss: 2.0657 - val_accuracy: 0.7394\n",
            "Epoch 40/75\n",
            "1316/1316 [==============================] - 4s 3ms/step - loss: 0.0088 - accuracy: 0.9962 - val_loss: 2.0411 - val_accuracy: 0.7061\n",
            "Epoch 41/75\n",
            "1316/1316 [==============================] - 4s 3ms/step - loss: 0.0285 - accuracy: 0.9924 - val_loss: 1.5269 - val_accuracy: 0.7364\n",
            "Epoch 42/75\n",
            "1316/1316 [==============================] - 4s 3ms/step - loss: 0.0161 - accuracy: 0.9939 - val_loss: 1.9926 - val_accuracy: 0.7333\n",
            "Epoch 43/75\n",
            "1316/1316 [==============================] - 4s 3ms/step - loss: 0.0077 - accuracy: 0.9970 - val_loss: 2.0369 - val_accuracy: 0.7394\n",
            "Epoch 44/75\n",
            "1316/1316 [==============================] - 4s 3ms/step - loss: 0.0079 - accuracy: 0.9954 - val_loss: 1.9784 - val_accuracy: 0.7212\n",
            "Epoch 45/75\n",
            "1316/1316 [==============================] - 4s 3ms/step - loss: 0.0223 - accuracy: 0.9932 - val_loss: 1.5648 - val_accuracy: 0.7333\n",
            "Epoch 46/75\n",
            "1316/1316 [==============================] - 4s 3ms/step - loss: 0.0102 - accuracy: 0.9954 - val_loss: 1.8448 - val_accuracy: 0.7424\n",
            "Epoch 47/75\n",
            "1316/1316 [==============================] - 4s 3ms/step - loss: 0.0096 - accuracy: 0.9962 - val_loss: 2.0010 - val_accuracy: 0.7303\n",
            "Epoch 48/75\n",
            "1316/1316 [==============================] - 4s 3ms/step - loss: 0.0089 - accuracy: 0.9970 - val_loss: 1.9647 - val_accuracy: 0.7364\n",
            "Epoch 49/75\n",
            "1316/1316 [==============================] - 4s 3ms/step - loss: 0.0132 - accuracy: 0.9954 - val_loss: 1.8522 - val_accuracy: 0.7424\n",
            "Epoch 50/75\n",
            "1316/1316 [==============================] - 4s 3ms/step - loss: 0.0121 - accuracy: 0.9954 - val_loss: 1.9010 - val_accuracy: 0.7424\n",
            "Epoch 51/75\n",
            "1316/1316 [==============================] - 4s 3ms/step - loss: 0.0144 - accuracy: 0.9939 - val_loss: 1.7512 - val_accuracy: 0.7485\n",
            "Epoch 52/75\n",
            "1316/1316 [==============================] - 4s 3ms/step - loss: 0.0176 - accuracy: 0.9909 - val_loss: 1.5837 - val_accuracy: 0.7394\n",
            "Epoch 53/75\n",
            "1316/1316 [==============================] - 4s 3ms/step - loss: 0.0233 - accuracy: 0.9924 - val_loss: 1.6017 - val_accuracy: 0.7091\n",
            "Epoch 54/75\n",
            "1316/1316 [==============================] - 4s 3ms/step - loss: 0.0266 - accuracy: 0.9924 - val_loss: 1.6794 - val_accuracy: 0.7424\n",
            "Epoch 55/75\n",
            "1316/1316 [==============================] - 4s 3ms/step - loss: 0.0183 - accuracy: 0.9916 - val_loss: 1.8772 - val_accuracy: 0.7333\n",
            "Epoch 56/75\n",
            "1316/1316 [==============================] - 4s 3ms/step - loss: 0.0209 - accuracy: 0.9924 - val_loss: 1.7224 - val_accuracy: 0.7273\n",
            "Epoch 57/75\n",
            "1316/1316 [==============================] - 4s 3ms/step - loss: 0.0183 - accuracy: 0.9954 - val_loss: 1.6053 - val_accuracy: 0.7121\n",
            "Epoch 58/75\n",
            "1316/1316 [==============================] - 4s 3ms/step - loss: 0.0177 - accuracy: 0.9947 - val_loss: 1.6197 - val_accuracy: 0.7303\n",
            "Epoch 59/75\n",
            "1316/1316 [==============================] - 4s 3ms/step - loss: 0.0157 - accuracy: 0.9947 - val_loss: 1.6116 - val_accuracy: 0.7394\n",
            "Epoch 60/75\n",
            "1316/1316 [==============================] - 4s 3ms/step - loss: 0.0121 - accuracy: 0.9962 - val_loss: 1.7873 - val_accuracy: 0.7424\n",
            "Epoch 61/75\n",
            "1316/1316 [==============================] - 4s 3ms/step - loss: 0.0087 - accuracy: 0.9954 - val_loss: 1.8916 - val_accuracy: 0.7333\n",
            "Epoch 62/75\n",
            "1316/1316 [==============================] - 4s 3ms/step - loss: 0.0146 - accuracy: 0.9939 - val_loss: 1.7144 - val_accuracy: 0.7303\n",
            "Epoch 63/75\n",
            "1316/1316 [==============================] - 4s 3ms/step - loss: 0.0170 - accuracy: 0.9947 - val_loss: 1.5429 - val_accuracy: 0.7242\n",
            "Epoch 64/75\n",
            "1316/1316 [==============================] - 4s 3ms/step - loss: 0.0141 - accuracy: 0.9947 - val_loss: 1.5610 - val_accuracy: 0.7212\n",
            "Epoch 65/75\n",
            "1316/1316 [==============================] - 4s 3ms/step - loss: 0.0061 - accuracy: 0.9977 - val_loss: 1.8324 - val_accuracy: 0.7091\n",
            "Epoch 66/75\n",
            "1316/1316 [==============================] - 4s 3ms/step - loss: 0.0068 - accuracy: 0.9977 - val_loss: 2.0424 - val_accuracy: 0.7273\n",
            "Epoch 67/75\n",
            "1316/1316 [==============================] - 4s 3ms/step - loss: 0.0070 - accuracy: 0.9970 - val_loss: 1.9774 - val_accuracy: 0.7152\n",
            "Epoch 68/75\n",
            "1316/1316 [==============================] - 4s 3ms/step - loss: 0.0102 - accuracy: 0.9939 - val_loss: 1.7509 - val_accuracy: 0.7333\n",
            "Epoch 69/75\n",
            "1316/1316 [==============================] - 4s 3ms/step - loss: 0.0083 - accuracy: 0.9962 - val_loss: 1.9040 - val_accuracy: 0.7364\n",
            "Epoch 70/75\n",
            "1316/1316 [==============================] - 4s 3ms/step - loss: 0.0160 - accuracy: 0.9909 - val_loss: 1.8138 - val_accuracy: 0.7364\n",
            "Epoch 71/75\n",
            "1316/1316 [==============================] - 4s 3ms/step - loss: 0.0437 - accuracy: 0.9833 - val_loss: 1.4258 - val_accuracy: 0.7394\n",
            "Epoch 72/75\n",
            "1316/1316 [==============================] - 4s 3ms/step - loss: 0.0230 - accuracy: 0.9924 - val_loss: 1.3720 - val_accuracy: 0.6939\n",
            "Epoch 73/75\n",
            "1316/1316 [==============================] - 4s 3ms/step - loss: 0.0098 - accuracy: 0.9962 - val_loss: 1.5248 - val_accuracy: 0.7030\n",
            "Epoch 74/75\n",
            "1316/1316 [==============================] - 4s 3ms/step - loss: 0.0093 - accuracy: 0.9962 - val_loss: 1.7386 - val_accuracy: 0.7242\n",
            "Epoch 75/75\n",
            "1316/1316 [==============================] - 4s 3ms/step - loss: 0.0118 - accuracy: 0.9954 - val_loss: 1.7890 - val_accuracy: 0.7242\n"
          ],
          "name": "stdout"
        },
        {
          "output_type": "execute_result",
          "data": {
            "text/plain": [
              "<keras.callbacks.callbacks.History at 0x7fb8aa619c88>"
            ]
          },
          "metadata": {
            "tags": []
          },
          "execution_count": 15
        }
      ]
    },
    {
      "cell_type": "code",
      "metadata": {
        "id": "Ni8AvJdU3Gyr",
        "colab_type": "code",
        "colab": {
          "base_uri": "https://localhost:8080/",
          "height": 204
        },
        "outputId": "4def1c2e-aa28-4920-8d56-bdb4b77a9442"
      },
      "source": [
        "link = '11e9azVRPOYyHOFQrDzUEUwqWfGcbf7Lk'\n",
        "download = drive.CreateFile({'id': link})\n",
        "download.GetContentFile('Test_fCbTej3.csv')\n",
        "test_file = pd.read_csv('Test_fCbTej3.csv')\n",
        "test_file.head()"
      ],
      "execution_count": null,
      "outputs": [
        {
          "output_type": "execute_result",
          "data": {
            "text/html": [
              "<div>\n",
              "<style scoped>\n",
              "    .dataframe tbody tr th:only-of-type {\n",
              "        vertical-align: middle;\n",
              "    }\n",
              "\n",
              "    .dataframe tbody tr th {\n",
              "        vertical-align: top;\n",
              "    }\n",
              "\n",
              "    .dataframe thead th {\n",
              "        text-align: right;\n",
              "    }\n",
              "</style>\n",
              "<table border=\"1\" class=\"dataframe\">\n",
              "  <thead>\n",
              "    <tr style=\"text-align: right;\">\n",
              "      <th></th>\n",
              "      <th>image_names</th>\n",
              "    </tr>\n",
              "  </thead>\n",
              "  <tbody>\n",
              "    <tr>\n",
              "      <th>0</th>\n",
              "      <td>1960.jpg</td>\n",
              "    </tr>\n",
              "    <tr>\n",
              "      <th>1</th>\n",
              "      <td>668.jpg</td>\n",
              "    </tr>\n",
              "    <tr>\n",
              "      <th>2</th>\n",
              "      <td>2082.jpg</td>\n",
              "    </tr>\n",
              "    <tr>\n",
              "      <th>3</th>\n",
              "      <td>808.jpg</td>\n",
              "    </tr>\n",
              "    <tr>\n",
              "      <th>4</th>\n",
              "      <td>1907.jpg</td>\n",
              "    </tr>\n",
              "  </tbody>\n",
              "</table>\n",
              "</div>"
            ],
            "text/plain": [
              "  image_names\n",
              "0    1960.jpg\n",
              "1     668.jpg\n",
              "2    2082.jpg\n",
              "3     808.jpg\n",
              "4    1907.jpg"
            ]
          },
          "metadata": {
            "tags": []
          },
          "execution_count": 16
        }
      ]
    },
    {
      "cell_type": "code",
      "metadata": {
        "id": "7QMRPvrm4o4q",
        "colab_type": "code",
        "colab": {
          "base_uri": "https://localhost:8080/",
          "height": 88
        },
        "outputId": "c235cf63-b02f-4e3a-9542-d4ceb9d0e272"
      },
      "source": [
        "test_image = []\n",
        "for i in tqdm(range(test_file.shape[0])):\n",
        "    img = image.load_img('images/'+test_file['image_names'][i], target_size=(28,28,1), grayscale=True)\n",
        "    img = image.img_to_array(img)\n",
        "    img = img/255\n",
        "    test_image.append(img)\n",
        "test = np.array(test_image)"
      ],
      "execution_count": null,
      "outputs": [
        {
          "output_type": "stream",
          "text": [
            "  0%|          | 0/706 [00:00<?, ?it/s]/usr/local/lib/python3.6/dist-packages/keras_preprocessing/image/utils.py:107: UserWarning: grayscale is deprecated. Please use color_mode = \"grayscale\"\n",
            "  warnings.warn('grayscale is deprecated. Please use '\n",
            "100%|██████████| 706/706 [00:00<00:00, 770.58it/s]\n"
          ],
          "name": "stderr"
        }
      ]
    },
    {
      "cell_type": "code",
      "metadata": {
        "id": "hZYo9cz34wAj",
        "colab_type": "code",
        "colab": {}
      },
      "source": [
        "prediction = model.predict_classes(test)\n"
      ],
      "execution_count": null,
      "outputs": []
    },
    {
      "cell_type": "code",
      "metadata": {
        "id": "yAlqxIdS5KdK",
        "colab_type": "code",
        "colab": {}
      },
      "source": [
        "download = drive.CreateFile({'id': '10hLsghwxcosZcsFR4lhQqOR4nTeUkU7T'})\n",
        "download.GetContentFile('sample_submission_yxjOnvz')"
      ],
      "execution_count": null,
      "outputs": []
    },
    {
      "cell_type": "code",
      "metadata": {
        "id": "hb29pWHt5-JH",
        "colab_type": "code",
        "colab": {}
      },
      "source": [
        "sample = pd.read_csv('sample_submission_yxjOnvz')\n",
        "sample['image_names'] = test_file['image_names']\n",
        "sample['emergency_or_not'] = prediction\n",
        "sample.to_csv('sample2.csv', header=True, index=False)"
      ],
      "execution_count": null,
      "outputs": []
    },
    {
      "cell_type": "code",
      "metadata": {
        "id": "90SN2AmE6jb-",
        "colab_type": "code",
        "colab": {
          "base_uri": "https://localhost:8080/",
          "height": 17
        },
        "outputId": "39fde804-2207-4efc-ffc0-be78f1f9183f"
      },
      "source": [
        "from google.colab import files\n",
        "files.download(\"sample2.csv\")"
      ],
      "execution_count": null,
      "outputs": [
        {
          "output_type": "display_data",
          "data": {
            "application/javascript": [
              "\n",
              "    async function download(id, filename, size) {\n",
              "      if (!google.colab.kernel.accessAllowed) {\n",
              "        return;\n",
              "      }\n",
              "      const div = document.createElement('div');\n",
              "      const label = document.createElement('label');\n",
              "      label.textContent = `Downloading \"${filename}\": `;\n",
              "      div.appendChild(label);\n",
              "      const progress = document.createElement('progress');\n",
              "      progress.max = size;\n",
              "      div.appendChild(progress);\n",
              "      document.body.appendChild(div);\n",
              "\n",
              "      const buffers = [];\n",
              "      let downloaded = 0;\n",
              "\n",
              "      const channel = await google.colab.kernel.comms.open(id);\n",
              "      // Send a message to notify the kernel that we're ready.\n",
              "      channel.send({})\n",
              "\n",
              "      for await (const message of channel.messages) {\n",
              "        // Send a message to notify the kernel that we're ready.\n",
              "        channel.send({})\n",
              "        if (message.buffers) {\n",
              "          for (const buffer of message.buffers) {\n",
              "            buffers.push(buffer);\n",
              "            downloaded += buffer.byteLength;\n",
              "            progress.value = downloaded;\n",
              "          }\n",
              "        }\n",
              "      }\n",
              "      const blob = new Blob(buffers, {type: 'application/binary'});\n",
              "      const a = document.createElement('a');\n",
              "      a.href = window.URL.createObjectURL(blob);\n",
              "      a.download = filename;\n",
              "      div.appendChild(a);\n",
              "      a.click();\n",
              "      div.remove();\n",
              "    }\n",
              "  "
            ],
            "text/plain": [
              "<IPython.core.display.Javascript object>"
            ]
          },
          "metadata": {
            "tags": []
          }
        },
        {
          "output_type": "display_data",
          "data": {
            "application/javascript": [
              "download(\"download_f8c8e00e-07b7-40c1-87bc-2ed0310a61f2\", \"sample2.csv\", 7455)"
            ],
            "text/plain": [
              "<IPython.core.display.Javascript object>"
            ]
          },
          "metadata": {
            "tags": []
          }
        }
      ]
    },
    {
      "cell_type": "code",
      "metadata": {
        "id": "sKV7Fp6f6nVG",
        "colab_type": "code",
        "colab": {}
      },
      "source": [
        ""
      ],
      "execution_count": null,
      "outputs": []
    }
  ]
}